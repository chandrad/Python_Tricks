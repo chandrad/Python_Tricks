{
 "cells": [
  {
   "cell_type": "code",
   "execution_count": 1,
   "metadata": {
    "collapsed": true
   },
   "outputs": [],
   "source": [
    "import pylab"
   ]
  },
  {
   "cell_type": "code",
   "execution_count": 3,
   "metadata": {
    "collapsed": false
   },
   "outputs": [
    {
     "name": "stdout",
     "output_type": "stream",
     "text": [
      "Populating the interactive namespace from numpy and matplotlib\n"
     ]
    },
    {
     "name": "stderr",
     "output_type": "stream",
     "text": [
      "WARNING: pylab import has clobbered these variables: ['pylab']\n",
      "`%matplotlib` prevents importing * from pylab and numpy\n"
     ]
    }
   ],
   "source": [
    "%pylab inline"
   ]
  },
  {
   "cell_type": "code",
   "execution_count": 6,
   "metadata": {
    "collapsed": false
   },
   "outputs": [],
   "source": [
    "import numpy as np\n",
    "import matplotlib.pyplot as plt"
   ]
  },
  {
   "cell_type": "code",
   "execution_count": 7,
   "metadata": {
    "collapsed": false
   },
   "outputs": [
    {
     "name": "stdout",
     "output_type": "stream",
     "text": [
      "Enter an expression in x to graph: x*sin(x)\n"
     ]
    },
    {
     "data": {
      "image/png": "[encoded data removed]",
      "text/plain": [
       "<matplotlib.figure.Figure at 0x76b4e80>"
      ]
     },
     "metadata": {},
     "output_type": "display_data"
    }
   ],
   "source": [
    "# Create graphs from algebraic expression\n",
    "\n",
    "from sympy import Symbol, plot\n",
    "x = Symbol('x')\n",
    "expr = input('Enter an expression in x to graph: ')\n",
    "p = plot(expr)"
   ]
  },
  {
   "cell_type": "code",
   "execution_count": 8,
   "metadata": {
    "collapsed": false
   },
   "outputs": [
    {
     "name": "stdout",
     "output_type": "stream",
     "text": [
      "Enter an expression in x to graph: 2*x**3\n"
     ]
    },
    {
     "data": {
      "image/png": "[encoded data removed]",
      "text/plain": [
       "<matplotlib.figure.Figure at 0x9943c50>"
      ]
     },
     "metadata": {},
     "output_type": "display_data"
    }
   ],
   "source": [
    "# Create graphs from algebraic expression\n",
    "\n",
    "from sympy import Symbol, plot\n",
    "x = Symbol('x')\n",
    "expr = input('Enter an expression in x to graph: ')\n",
    "p = plot(expr)"
   ]
  },
  {
   "cell_type": "code",
   "execution_count": 9,
   "metadata": {
    "collapsed": false
   },
   "outputs": [
    {
     "data": {
      "text/plain": [
       "[-1/2]"
      ]
     },
     "execution_count": 9,
     "metadata": {},
     "output_type": "execute_result"
    }
   ],
   "source": [
    "# Solve equations\n",
    "from sympy import solve, Symbol\n",
    "x = Symbol('x')\n",
    "solve(2*x + 1)"
   ]
  },
  {
   "cell_type": "code",
   "execution_count": 12,
   "metadata": {
    "collapsed": false
   },
   "outputs": [
    {
     "data": {
      "text/plain": [
       "[-sqrt(2)*I/2, sqrt(2)*I/2]"
      ]
     },
     "execution_count": 12,
     "metadata": {},
     "output_type": "execute_result"
    }
   ],
   "source": [
    "# Solve equations\n",
    "from sympy import solve, Symbol\n",
    "x = Symbol('x')\n",
    "solve(2*x**2  + 1)"
   ]
  },
  {
   "cell_type": "code",
   "execution_count": 13,
   "metadata": {
    "collapsed": false
   },
   "outputs": [
    {
     "data": {
      "text/plain": [
       "1"
      ]
     },
     "execution_count": 13,
     "metadata": {},
     "output_type": "execute_result"
    }
   ],
   "source": [
    "# Solve Limits\n",
    "\n",
    "from sympy import Symbol, Limit, sin\n",
    "x = Symbol('x')\n",
    "Limit(sin(x)/x,x,0).doit() #doit() function to evaluates by sympy \n",
    "\n",
    "Limit(sin(x)/x,x,0) #it just creates the object "
   ]
  },
  {
   "cell_type": "code",
   "execution_count": 14,
   "metadata": {
    "collapsed": false
   },
   "outputs": [
    {
     "data": {
      "image/png": "[encoded data removed]",
      "text/latex": [
       "$$\\left(\\frac{\\left(2 x + 1\\right) \\cos{\\left (x \\right )}}{\\sin{\\left (x \\right )}} + 2 \\log{\\left (\\sin{\\left (x \\right )} \\right )}\\right) \\sin^{2 x + 1}{\\left (x \\right )}$$"
      ],
      "text/plain": [
       "⎛(2⋅x + 1)⋅cos(x)                ⎞    2⋅x + 1   \n",
       "⎜──────────────── + 2⋅log(sin(x))⎟⋅sin       (x)\n",
       "⎝     sin(x)                     ⎠              "
      ]
     },
     "execution_count": 14,
     "metadata": {},
     "output_type": "execute_result"
    }
   ],
   "source": [
    "## Derivative\n",
    "\n",
    "from sympy import Symbol, Derivative, sin, init_printing\n",
    "x = Symbol('x')\n",
    "init_printing() ## Initializes the priniting environment\n",
    "Derivative(sin(x)**(2*x + 1), x).doit()"
   ]
  },
  {
   "cell_type": "code",
   "execution_count": 15,
   "metadata": {
    "collapsed": false
   },
   "outputs": [
    {
     "data": {
      "image/png": "[encoded data removed]",
      "text/latex": [
       "$$\\frac{2 x^{\\frac{3}{2}}}{3}$$"
      ],
      "text/plain": [
       "   3/2\n",
       "2⋅x   \n",
       "──────\n",
       "  3   "
      ]
     },
     "execution_count": 15,
     "metadata": {},
     "output_type": "execute_result"
    }
   ],
   "source": [
    "## Indefinite Integral\n",
    "\n",
    "from sympy import Symbol, Integral, sqrt, sin, init_printing\n",
    "x = Symbol('x')\n",
    "init_printing()\n",
    "Integral(sqrt(x)).doit()"
   ]
  },
  {
   "cell_type": "code",
   "execution_count": 16,
   "metadata": {
    "collapsed": false
   },
   "outputs": [
    {
     "data": {
      "image/png": "[encoded data removed]",
      "text/latex": [
       "$$\\frac{4 \\sqrt{2}}{3}$$"
      ],
      "text/plain": [
       "4⋅√2\n",
       "────\n",
       " 3  "
      ]
     },
     "execution_count": 16,
     "metadata": {},
     "output_type": "execute_result"
    }
   ],
   "source": [
    "# Definite Integral\n",
    "\n",
    "from sympy import Symbol, Integral, sqrt\n",
    "x = Symbol('x')\n",
    "Integral(sqrt(x), (x, 0, 2)).doit()"
   ]
  },
  {
   "cell_type": "code",
   "execution_count": 21,
   "metadata": {
    "collapsed": false
   },
   "outputs": [
    {
     "data": {
      "image/png": "[encoded data removed]",
      "text/latex": [
       "$$\\sin{\\left (2 \\right )}$$"
      ],
      "text/plain": [
       "sin(2)"
      ]
     },
     "execution_count": 21,
     "metadata": {},
     "output_type": "execute_result"
    }
   ],
   "source": [
    "# Definite Integral\n",
    "\n",
    "from sympy import Symbol, Integral, sqrt, cos\n",
    "x = Symbol('x')\n",
    "Integral(cos(x), (x, 0, 2)).doit()"
   ]
  },
  {
   "cell_type": "code",
   "execution_count": 23,
   "metadata": {
    "collapsed": false
   },
   "outputs": [
    {
     "data": {
      "image/png": "[encoded data removed]",
      "text/latex": [
       "$$\\int_{0}^{2} \\sqrt{x}\\, dx$$"
      ],
      "text/plain": [
       "2      \n",
       "⌠      \n",
       "⎮ √x dx\n",
       "⌡      \n",
       "0      "
      ]
     },
     "execution_count": 23,
     "metadata": {},
     "output_type": "execute_result"
    }
   ],
   "source": [
    "# Definite Integral\n",
    "\n",
    "from sympy import Symbol, Integral, sqrt, cos\n",
    "x = Symbol('x')\n",
    "Integral(sqrt((x)), (x, 0, 2))"
   ]
  },
  {
   "cell_type": "markdown",
   "metadata": {},
   "source": [
    "## Animation"
   ]
  },
  {
   "cell_type": "code",
   "execution_count": 25,
   "metadata": {
    "collapsed": false
   },
   "outputs": [
    {
     "data": {
      "text/html": [
       "\n",
       "        <iframe\n",
       "            width=\"400\"\n",
       "            height=\"300\"\n",
       "            src=\"https://www.youtube.com/embed/8uWRVh58KdQ\"\n",
       "            frameborder=\"0\"\n",
       "            allowfullscreen\n",
       "        ></iframe>\n",
       "        "
      ],
      "text/plain": [
       "<IPython.lib.display.YouTubeVideo at 0x82fe160>"
      ]
     },
     "execution_count": 25,
     "metadata": {},
     "output_type": "execute_result"
    }
   ],
   "source": [
    "from IPython.display import YouTubeVideo\n",
    "YouTubeVideo('8uWRVh58KdQ')"
   ]
  },
  {
   "cell_type": "markdown",
   "metadata": {},
   "source": [
    "## Gradient Descent"
   ]
  },
  {
   "cell_type": "code",
   "execution_count": 26,
   "metadata": {
    "collapsed": true
   },
   "outputs": [],
   "source": [
    "%matplotlib inline\n",
    "\n",
    "'''\n",
    "grad_descent.py\n",
    "\n",
    "Use gradient descent to find the minimum value of a \n",
    "single variable function. This also checks for the existence\n",
    "of a solution for the equation, f'(x) = 0 and plots the intermediate\n",
    "points traversed\n",
    "'''\n",
    "\n",
    "from sympy import Derivative, Symbol, sympify, solve\n",
    "import matplotlib.pyplot as plt\n",
    "\n",
    "def grad_descent(x0, f1x, x):\n",
    "    #check if flx = 0 has solution\n",
    "    if not solve(f1x):\n",
    "        print ('Cannot continue, solution for {0} = 0 does not exist'. format(f1x))\n",
    "        return None\n",
    "    epsilon = 1e-6\n",
    "    step_size = 1e-4\n",
    "    x_old = x0\n",
    "    x_new = x_old - step_size*f1x.subs({x:x_old}).evalf()\n",
    "    \n",
    "    # list to store the X values traversed\n",
    "    X_traversed = []\n",
    "    while abs(x_old - x_new) > epsilon:\n",
    "        X_traversed.append(x_new)\n",
    "        x_old = x_new\n",
    "        x_new = x_old - step_size*f1x.subs({x:x_old}).evalf()\n",
    "    \n",
    "    return x_new, X_traversed"
   ]
  },
  {
   "cell_type": "code",
   "execution_count": 27,
   "metadata": {
    "collapsed": true
   },
   "outputs": [],
   "source": [
    "def frange(start, final, interval):\n",
    "    numbers = []\n",
    "    while start < final:\n",
    "        numbers.append(start)\n",
    "        start = start + interval\n",
    "        \n",
    "    return numbers"
   ]
  },
  {
   "cell_type": "code",
   "execution_count": 28,
   "metadata": {
    "collapsed": true
   },
   "outputs": [],
   "source": [
    "def create_plot(X_traversed, f, var):\n",
    "    # First create the graph of the function itself.\n",
    "    x_val = frange(-1, 1, 0.01)\n",
    "    f_val = [f.subs({var:x}) for x in x_val]\n",
    "    plt.plot(x_val, f_val, 'bo')\n",
    "    \n",
    "    # Calculate the function value at each of the intermediate\n",
    "    # points traversed\n",
    "    \n",
    "    f_traversed = [f.subs({var:x}) for x in X_traversed]\n",
    "    plt.plot(X_traversed, f_traversed, 'r.')\n",
    "    plt.legend(['Function', 'Intermediate Points'], loc = 'best')\n",
    "    plt.show()"
   ]
  },
  {
   "cell_type": "code",
   "execution_count": 29,
   "metadata": {
    "collapsed": false
   },
   "outputs": [
    {
     "name": "stdout",
     "output_type": "stream",
     "text": [
      "Enter a function in one variable: 2*x**2\n",
      "Enter the variable to differentiate with respect to: x\n",
      "Enter the initial value of the variable: 0.1\n",
      "x: 0.00249835428521054\n",
      "Minimum value: 0.0000124835482688597\n"
     ]
    },
    {
     "data": {
      "image/png": "[encoded data removed]",
      "text/plain": [
       "<matplotlib.figure.Figure at 0x82fbe10>"
      ]
     },
     "metadata": {},
     "output_type": "display_data"
    }
   ],
   "source": [
    "if __name__=='__main__':\n",
    "    \n",
    "    f = input('Enter a function in one variable: ')\n",
    "    var = input('Enter the variable to differentiate with respect to: ')\n",
    "    var0 = float(input('Enter the initial value of the variable: '))\n",
    "    \n",
    "    try:\n",
    "        f = sympify(f) # sympify converts a string into converts to be useful later\n",
    "    except SympifyError:\n",
    "        print ('Invalid function entered')\n",
    "        \n",
    "    else: \n",
    "        var = Symbol(var)\n",
    "        d = Derivative(f, var).doit()\n",
    "        var_min, X_traversed = grad_descent(var0, d, var)\n",
    "        \n",
    "        if var_min:\n",
    "            print('{0}: {1}'.format(var.name, var_min))\n",
    "            print('Minimum value: {0}'.format(f.subs({var:var_min})))\n",
    "            create_plot(X_traversed, f, var)"
   ]
  },
  {
   "cell_type": "markdown",
   "metadata": {},
   "source": [
    "## Simple Linear Regression"
   ]
  },
  {
   "cell_type": "code",
   "execution_count": 30,
   "metadata": {
    "collapsed": true
   },
   "outputs": [],
   "source": [
    "%matplotlib inline"
   ]
  },
  {
   "cell_type": "code",
   "execution_count": 31,
   "metadata": {
    "collapsed": true
   },
   "outputs": [],
   "source": [
    "## Using Gradient Descent for Linear Regression\n",
    "# Ideas from https://spin.atomicobject.com/2014/06/24/gradient-descent-linear-regression/\n",
    "\n",
    "# We will attempt to predict the college admission test score based\n",
    "# on the high school math score \n",
    "\n",
    "# Known data\n",
    "x_data = [83, 85, 84, 96, 94, 86, 87, 97, 97, 85]\n",
    "y_data = [85, 87, 86, 97, 96, 88, 89, 98, 98, 87]\n",
    "\n",
    "from sympy import Symbol, Derivative\n",
    "import matplotlib.pyplot as plt\n",
    "\n",
    "# Assume linear model\n",
    "# x = math score in high school\n",
    "# y = admission test score\n",
    "\n",
    "# y= m*x + c\n",
    "\n",
    "def estimate_y(x, m, c):\n",
    "    y_estimate = m*x + c\n",
    "    return y_estimate"
   ]
  },
  {
   "cell_type": "code",
   "execution_count": 36,
   "metadata": {
    "collapsed": true
   },
   "outputs": [],
   "source": [
    "def estimate_theta(m_current, c_current, max_iterations = 50000):\n",
    "    learning_rate = 0.0001\n",
    "    m_gradient = 0\n",
    "    c_gradient = 0\n",
    "    N = len(x_data)\n",
    "    \n",
    "    m = Symbol('m')\n",
    "    c = Symbol('c')\n",
    "    y = Symbol('y')\n",
    "    x = Symbol('x')\n",
    "    \n",
    "    ## Error term\n",
    "    error_term = (y - (m*x + c))**2\n",
    "    ## Error Function = 1/n*sum(error_term)\n",
    "    \n",
    "    for i in range(max_iterations):\n",
    "        for i in range(0, N):\n",
    "            m_gradient += (1/N)*Derivative(error_term, m).doit().subs({x:x_data[i], y:y_data[i], m:m_current, c:c_current})\n",
    "            c_gradient += (1/N)*Derivative(error_term, m).doit().subs({x:x_data[i], y:y_data[i], m:m_current, c:c_current})\n",
    "        \n",
    "        m_new = m_current -(learning_rate * m_gradient)\n",
    "        c_new = c_current -(learning_rate * c_gradient)\n",
    "        \n",
    "        if abs(m_new - m_current) < 1e-5 or abs(c_new - c_current) < 1e-5:\n",
    "            break\n",
    "        else:\n",
    "            m_current = m_new\n",
    "            c_current = c_new\n",
    "    return m_new, c_new\n",
    "            \n",
    "    "
   ]
  },
  {
   "cell_type": "code",
   "execution_count": 37,
   "metadata": {
    "collapsed": false
   },
   "outputs": [],
   "source": [
    "m, c = estimate_theta(1, 1)"
   ]
  },
  {
   "cell_type": "code",
   "execution_count": 39,
   "metadata": {
    "collapsed": false
   },
   "outputs": [
    {
     "name": "stdout",
     "output_type": "stream",
     "text": [
      "m = 1.01489201980472, c = 1.01489201980472\n"
     ]
    }
   ],
   "source": [
    "print ('m = {0}, c = {1}'.format(m,c))"
   ]
  },
  {
   "cell_type": "code",
   "execution_count": 40,
   "metadata": {
    "collapsed": false
   },
   "outputs": [
    {
     "data": {
      "image/png": "[encoded data removed]",
      "text/latex": [
       "$$1.01489201980472$$"
      ],
      "text/plain": [
       "1.01489201980472"
      ]
     },
     "execution_count": 40,
     "metadata": {},
     "output_type": "execute_result"
    }
   ],
   "source": [
    "m"
   ]
  },
  {
   "cell_type": "code",
   "execution_count": 41,
   "metadata": {
    "collapsed": false
   },
   "outputs": [
    {
     "data": {
      "image/png": "[encoded data removed]",
      "text/latex": [
       "$$1.01489201980472$$"
      ],
      "text/plain": [
       "1.01489201980472"
      ]
     },
     "execution_count": 41,
     "metadata": {},
     "output_type": "execute_result"
    }
   ],
   "source": [
    "c"
   ]
  },
  {
   "cell_type": "code",
   "execution_count": 42,
   "metadata": {
    "collapsed": true
   },
   "outputs": [],
   "source": [
    "## Let's try this and unknow set of data\n",
    "# This data is different and widely spread\n",
    "# but they are very similarly correlated\n",
    "x_data = [63, 61, 98, 76, 74, 59, 40, 87, 71, 75]\n",
    "y_data = [65, 62, 99, 78, 75, 60, 42, 89, 71, 77]"
   ]
  },
  {
   "cell_type": "code",
   "execution_count": 43,
   "metadata": {
    "collapsed": false
   },
   "outputs": [
    {
     "data": {
      "image/png": "[encoded data removed]",
      "text/plain": [
       "<matplotlib.figure.Figure at 0x76b4f60>"
      ]
     },
     "metadata": {},
     "output_type": "display_data"
    }
   ],
   "source": [
    "y_estimated = [estimate_y(x, m, c) for x in x_data]\n",
    "plt.plot(x_data, y_data, 'ro')\n",
    "plt.plot(x_data, y_estimated, 'b*')\n",
    "plt.legend(['Actual', 'Estimated'], loc = 'best')\n",
    "plt.show()"
   ]
  },
  {
   "cell_type": "code",
   "execution_count": null,
   "metadata": {
    "collapsed": true
   },
   "outputs": [],
   "source": []
  }
 ],
 "metadata": {
  "kernelspec": {
   "display_name": "Python 3",
   "language": "python",
   "name": "python3"
  },
  "language_info": {
   "codemirror_mode": {
    "name": "ipython",
    "version": 3
   },
   "file_extension": ".py",
   "mimetype": "text/x-python",
   "name": "python",
   "nbconvert_exporter": "python",
   "pygments_lexer": "ipython3",
   "version": "3.5.1"
  }
 },
 "nbformat": 4,
 "nbformat_minor": 0
}
