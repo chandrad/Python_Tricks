{
 "cells": [
  {
   "cell_type": "code",
   "execution_count": 1,
   "metadata": {
    "collapsed": false
   },
   "outputs": [
    {
     "name": "stdout",
     "output_type": "stream",
     "text": [
      "45\n"
     ]
    }
   ],
   "source": [
    "#Imperative Programming Example\n",
    "\n",
    "total = 0\n",
    "\n",
    "for i in range(10):\n",
    "    total += i\n",
    "\n",
    "print(total)"
   ]
  },
  {
   "cell_type": "code",
   "execution_count": 2,
   "metadata": {
    "collapsed": false
   },
   "outputs": [
    {
     "data": {
      "text/plain": [
       "45"
      ]
     },
     "execution_count": 2,
     "metadata": {},
     "output_type": "execute_result"
    }
   ],
   "source": [
    "# Object Oriented Programming\n",
    "class Summer:\n",
    "    def __init__(self):  #1st method __ == dender (constructor of python)\n",
    "        self.sum = 0\n",
    "    def add(self, num): # 2nd method accept self. (body of the method increament)\n",
    "        self.sum = self.sum + num\n",
    "\n",
    "s = Summer() #instantiating the class (decorator) \n",
    "\n",
    "for num in range(10):\n",
    "    s.add(num) # called method\n",
    "\n",
    "s.sum #inspect the method"
   ]
  },
  {
   "cell_type": "code",
   "execution_count": 5,
   "metadata": {
    "collapsed": false
   },
   "outputs": [
    {
     "data": {
      "text/plain": [
       "45"
      ]
     },
     "execution_count": 5,
     "metadata": {},
     "output_type": "execute_result"
    }
   ],
   "source": [
    "# Functional Programming - rather than creating objects use functions\n",
    "import operator #import that module into global name space\n",
    "from functools import reduce\n",
    "reduce(operator.add, range(10)) #built-in function reduce- higher order function takes fucntions as first parameter \n",
    "#not inovoked yet\n",
    "#operator.add is function, and list --range"
   ]
  },
  {
   "cell_type": "code",
   "execution_count": 7,
   "metadata": {
    "collapsed": false
   },
   "outputs": [
    {
     "data": {
      "text/plain": [
       "45"
      ]
     },
     "execution_count": 7,
     "metadata": {},
     "output_type": "execute_result"
    }
   ],
   "source": [
    "sum(range(10))  # 5 to 10 lines of code to one line of code thats the win for Functional programming"
   ]
  },
  {
   "cell_type": "raw",
   "metadata": {},
   "source": [
    "# summarizing Functional Programming in Change State by applying functions, avoiding state, side effects and mutable data"
   ]
  },
  {
   "cell_type": "raw",
   "metadata": {},
   "source": [
    "# in imperative creates a global space to affect state\n",
    "# in objective mutate the state"
   ]
  },
  {
   "cell_type": "raw",
   "metadata": {},
   "source": [
    "# Fist-Class functions\n",
    "# in python is basically functions as 'Objects'"
   ]
  },
  {
   "cell_type": "raw",
   "metadata": {},
   "source": [
    "# Higher-order functions\n",
    "# Functions that accept functions as parameters or returns a functions"
   ]
  },
  {
   "cell_type": "raw",
   "metadata": {},
   "source": [
    "# Pure functions - Construct in Functional programming\n",
    "# idompotent - always produces the same result (i.e, not accessing global state)\n",
    "# No side effects (writing to disk, mutating global state, etc)"
   ]
  },
  {
   "cell_type": "code",
   "execution_count": 9,
   "metadata": {
    "collapsed": true
   },
   "outputs": [],
   "source": [
    "import math\n",
    "\n",
    "# Pure: math.cos (returns the same things)\n",
    "# Impure: print (have side affects in writing statand IO, random.random (it calls different thing)"
   ]
  },
  {
   "cell_type": "code",
   "execution_count": 11,
   "metadata": {
    "collapsed": true
   },
   "outputs": [],
   "source": [
    "# Python doesn't support Tail Call Optimization\n",
    "# Optimization for recursion to not create a new stack. Python doesn't have it (Guido says no)."
   ]
  },
  {
   "cell_type": "code",
   "execution_count": 13,
   "metadata": {
    "collapsed": false
   },
   "outputs": [
    {
     "data": {
      "text/plain": [
       "True"
      ]
     },
     "execution_count": 13,
     "metadata": {},
     "output_type": "execute_result"
    }
   ],
   "source": [
    "# Lambda statement\n",
    "# Create simple functions in a single line:\n",
    "\n",
    "def mul(a,b):\n",
    "    return a*b\n",
    "\n",
    "mul_2 = lambda a,b: a*b\n",
    "\n",
    "mul_2(4,5) == mul(4,5) #invoking both of these"
   ]
  },
  {
   "cell_type": "code",
   "execution_count": 14,
   "metadata": {
    "collapsed": false
   },
   "outputs": [
    {
     "data": {
      "text/plain": [
       "[{'number': '0'},\n",
       " {'number': '1'},\n",
       " {'number': '2'},\n",
       " {'number': '3'},\n",
       " {'number': '4'},\n",
       " {'number': '9'}]"
      ]
     },
     "execution_count": 14,
     "metadata": {},
     "output_type": "execute_result"
    }
   ],
   "source": [
    "# common examples\n",
    "# Useful for key parameter when sorting\n",
    "\n",
    "data = [{'number':'0'},{'number':'1'}, {'number':'9'},{'number':'3'},{'number':'4'},{'number':'2'}]\n",
    "\n",
    "data.sort(key= lambda x: float(x['number']))\n",
    "\n",
    "data"
   ]
  },
  {
   "cell_type": "raw",
   "metadata": {},
   "source": [
    "# lambda parameters support\n",
    " 1. Normal\n",
    " 2. Named (defualts)\n",
    " 3. *args - Variable arguments\n",
    " 4. **kwargs - Variable keyword arguments"
   ]
  },
  {
   "cell_type": "code",
   "execution_count": 15,
   "metadata": {
    "collapsed": false
   },
   "outputs": [
    {
     "ename": "SyntaxError",
     "evalue": "invalid syntax (<ipython-input-15-5d8ef75b667a>, line 3)",
     "output_type": "error",
     "traceback": [
      "\u001b[1;36m  File \u001b[1;32m\"<ipython-input-15-5d8ef75b667a>\"\u001b[1;36m, line \u001b[1;32m3\u001b[0m\n\u001b[1;33m    is_pos = lambda x: if x >=0: 'pos'\u001b[0m\n\u001b[1;37m                        ^\u001b[0m\n\u001b[1;31mSyntaxError\u001b[0m\u001b[1;31m:\u001b[0m invalid syntax\n"
     ]
    }
   ],
   "source": [
    "# Drawback of lambda, expression we cannot put a statement inside a lamdba statement\n",
    "\n",
    "is_pos = lambda x: if x >=0: 'pos'"
   ]
  },
  {
   "cell_type": "code",
   "execution_count": 16,
   "metadata": {
    "collapsed": false
   },
   "outputs": [
    {
     "data": {
      "text/plain": [
       "'pos'"
      ]
     },
     "execution_count": 16,
     "metadata": {},
     "output_type": "execute_result"
    }
   ],
   "source": [
    "# you can only put (Conditional) expression in py\n",
    "is_pos = lambda x: 'pos' if x >=0 else 'neg'\n",
    "is_pos(3)"
   ]
  },
  {
   "cell_type": "raw",
   "metadata": {},
   "source": [
    "# Simple rule for expressions: Something that could be returned from a funtion\n",
    "# def fun(args):\n",
    "#    return expression"
   ]
  },
  {
   "cell_type": "raw",
   "metadata": {},
   "source": [
    "from cookielib.py\n",
    "# add cookies in order of most specific (i.e. longest) path first\n",
    "cookies.sort(key=lambda arg: len(arg.path), reverse=True)"
   ]
  },
  {
   "cell_type": "code",
   "execution_count": 18,
   "metadata": {
    "collapsed": true
   },
   "outputs": [],
   "source": [
    "# lamdba is good for one liners"
   ]
  },
  {
   "cell_type": "code",
   "execution_count": 19,
   "metadata": {
    "collapsed": false
   },
   "outputs": [
    {
     "data": {
      "text/plain": [
       "<map at 0x4c35278>"
      ]
     },
     "execution_count": 19,
     "metadata": {},
     "output_type": "execute_result"
    }
   ],
   "source": [
    "# map functions is a higher order functions that applies a function to items of a sequence\n",
    "map(str,[0,1,2])"
   ]
  },
  {
   "cell_type": "code",
   "execution_count": 20,
   "metadata": {
    "collapsed": false,
    "scrolled": true
   },
   "outputs": [
    {
     "data": {
      "text/plain": [
       "<map at 0x4c35320>"
      ]
     },
     "execution_count": 20,
     "metadata": {},
     "output_type": "execute_result"
    }
   ],
   "source": [
    "pos = lambda x: x>0\n",
    "map(pos, [-1,0,1,2])"
   ]
  },
  {
   "cell_type": "raw",
   "metadata": {},
   "source": [
    "#tarfile.py\n",
    "def namelist(self):\n",
    "    return map(lambda m: m.name, self.infolist())"
   ]
  },
  {
   "cell_type": "code",
   "execution_count": 25,
   "metadata": {
    "collapsed": false
   },
   "outputs": [
    {
     "data": {
      "text/plain": [
       "<map at 0x4c354a8>"
      ]
     },
     "execution_count": 25,
     "metadata": {},
     "output_type": "execute_result"
    }
   ],
   "source": [
    "#in python 3, map is not a function but a lazy class\n",
    "map(str, range(10)) #lazy function range returns a returns object\n",
    "#interpreter returns a map object of memory location"
   ]
  },
  {
   "cell_type": "code",
   "execution_count": 26,
   "metadata": {
    "collapsed": false
   },
   "outputs": [
    {
     "data": {
      "text/plain": [
       "'0'"
      ]
     },
     "execution_count": 26,
     "metadata": {},
     "output_type": "execute_result"
    }
   ],
   "source": [
    "next(_) # underscore '_' in python interpretor is the last invocation #next function gives one iteration"
   ]
  },
  {
   "cell_type": "code",
   "execution_count": 27,
   "metadata": {
    "collapsed": false
   },
   "outputs": [
    {
     "data": {
      "text/plain": [
       "'0'"
      ]
     },
     "execution_count": 27,
     "metadata": {},
     "output_type": "execute_result"
    }
   ],
   "source": [
    "_"
   ]
  },
  {
   "cell_type": "code",
   "execution_count": 28,
   "metadata": {
    "collapsed": true
   },
   "outputs": [],
   "source": [
    "import itertools"
   ]
  },
  {
   "cell_type": "code",
   "execution_count": 30,
   "metadata": {
    "collapsed": false
   },
   "outputs": [
    {
     "data": {
      "text/plain": [
       "24"
      ]
     },
     "execution_count": 30,
     "metadata": {},
     "output_type": "execute_result"
    }
   ],
   "source": [
    "import operator\n",
    "reduce(operator.mul,[1,2,3,4]) # ((1*2)*3)*4"
   ]
  },
  {
   "cell_type": "raw",
   "metadata": {},
   "source": [
    "#reduce is pulled out of built-in module but appeared in 'functools'"
   ]
  },
  {
   "cell_type": "raw",
   "metadata": {},
   "source": [
    "#Std lib example\n",
    "# from csv.py. Guessing the quote character\n",
    "#in python 3 reduce is replaced with max function\n",
    "quotechar = max(quotes, key = quotes.get) "
   ]
  },
  {
   "cell_type": "code",
   "execution_count": 32,
   "metadata": {
    "collapsed": false
   },
   "outputs": [
    {
     "data": {
      "text/plain": [
       "<filter at 0x4c3e320>"
      ]
     },
     "execution_count": 32,
     "metadata": {},
     "output_type": "execute_result"
    }
   ],
   "source": [
    "filter(lambda x:x >0, [0,-1,3,4,-2]) #filter an higher order function takes a function also a sequence \n",
    "# predicate functiion lambda x: x>0 and do"
   ]
  },
  {
   "cell_type": "raw",
   "metadata": {},
   "source": [
    "#in python 3 \n",
    "itertools.filter(lambda x:x >0, [0,-1,3,4,-2])"
   ]
  },
  {
   "cell_type": "raw",
   "metadata": {},
   "source": [
    "# sum or for loop can replace reduce\n",
    "# list comprehensions replace map and filter\n",
    "# No tail call optimization (means limit on recursion depth)"
   ]
  },
  {
   "cell_type": "code",
   "execution_count": 35,
   "metadata": {
    "collapsed": true
   },
   "outputs": [],
   "source": [
    "# Looping\n",
    "\n",
    "seq = range(-10,10)"
   ]
  },
  {
   "cell_type": "code",
   "execution_count": 36,
   "metadata": {
    "collapsed": false
   },
   "outputs": [
    {
     "data": {
      "text/plain": [
       "range(-10, 10)"
      ]
     },
     "execution_count": 36,
     "metadata": {},
     "output_type": "execute_result"
    }
   ],
   "source": [
    "seq"
   ]
  },
  {
   "cell_type": "code",
   "execution_count": 37,
   "metadata": {
    "collapsed": false
   },
   "outputs": [
    {
     "name": "stdout",
     "output_type": "stream",
     "text": [
      "[0, 2, 4, 6, 8, 10, 12, 14, 16, 18]\n"
     ]
    }
   ],
   "source": [
    "results = []\n",
    "results = [2*x for x in seq if x >=0]\n",
    "print (results)"
   ]
  },
  {
   "cell_type": "code",
   "execution_count": 42,
   "metadata": {
    "collapsed": false
   },
   "outputs": [
    {
     "name": "stdout",
     "output_type": "stream",
     "text": [
      "[0, 2, 4, 6, 8, 10, 12, 14, 16, 18]\n"
     ]
    }
   ],
   "source": [
    "# List comprehension Construction\n",
    "# Assign result\n",
    "results = []\n",
    "# insert for loop:\n",
    "#results = [for x in seq]\n",
    "# Add filter(if any):\n",
    "#results = [for x in seq if x>=0]\n",
    "# put accumulated object in front:\n",
    "results = [2*x for x in seq if x>=0]\n",
    "print (results)"
   ]
  },
  {
   "cell_type": "code",
   "execution_count": 43,
   "metadata": {
    "collapsed": true
   },
   "outputs": [],
   "source": [
    "nested = [(x,y) for x in range(3) for y in range(4)]"
   ]
  },
  {
   "cell_type": "code",
   "execution_count": 45,
   "metadata": {
    "collapsed": false
   },
   "outputs": [
    {
     "name": "stdout",
     "output_type": "stream",
     "text": [
      "[(0, 0), (0, 1), (0, 2), (0, 3), (1, 0), (1, 1), (1, 2), (1, 3), (2, 0), (2, 1), (2, 2), (2, 3)]\n"
     ]
    }
   ],
   "source": [
    "print(nested)"
   ]
  },
  {
   "cell_type": "code",
   "execution_count": 46,
   "metadata": {
    "collapsed": false
   },
   "outputs": [
    {
     "data": {
      "text/plain": [
       "['0', '1', '2', '3', '4']"
      ]
     },
     "execution_count": 46,
     "metadata": {},
     "output_type": "execute_result"
    }
   ],
   "source": [
    "# List comprehensions in python 3\n",
    "# Acting like map (apply str to a sequence)\n",
    "[str(x) for x in range(5)]"
   ]
  },
  {
   "cell_type": "code",
   "execution_count": 47,
   "metadata": {
    "collapsed": false
   },
   "outputs": [
    {
     "data": {
      "text/plain": [
       "[1, 2, 3, 4]"
      ]
     },
     "execution_count": 47,
     "metadata": {},
     "output_type": "execute_result"
    }
   ],
   "source": [
    "#Acting like filter (get positive numbers)\n",
    "[x for x in range(-5,5) if x > 0]"
   ]
  },
  {
   "cell_type": "code",
   "execution_count": 48,
   "metadata": {
    "collapsed": true
   },
   "outputs": [],
   "source": [
    "ascii = [chr(c) for c in range(127)] # 7-bit ASCII\n"
   ]
  },
  {
   "cell_type": "code",
   "execution_count": 50,
   "metadata": {
    "collapsed": false
   },
   "outputs": [
    {
     "name": "stdout",
     "output_type": "stream",
     "text": [
      "['\\x00', '\\x01', '\\x02', '\\x03', '\\x04', '\\x05', '\\x06', '\\x07', '\\x08', '\\t', '\\n', '\\x0b', '\\x0c', '\\r', '\\x0e', '\\x0f', '\\x10', '\\x11', '\\x12', '\\x13', '\\x14', '\\x15', '\\x16', '\\x17', '\\x18', '\\x19', '\\x1a', '\\x1b', '\\x1c', '\\x1d', '\\x1e', '\\x1f', ' ', '!', '\"', '#', '$', '%', '&', \"'\", '(', ')', '*', '+', ',', '-', '.', '/', '0', '1', '2', '3', '4', '5', '6', '7', '8', '9', ':', ';', '<', '=', '>', '?', '@', 'A', 'B', 'C', 'D', 'E', 'F', 'G', 'H', 'I', 'J', 'K', 'L', 'M', 'N', 'O', 'P', 'Q', 'R', 'S', 'T', 'U', 'V', 'W', 'X', 'Y', 'Z', '[', '\\\\', ']', '^', '_', '`', 'a', 'b', 'c', 'd', 'e', 'f', 'g', 'h', 'i', 'j', 'k', 'l', 'm', 'n', 'o', 'p', 'q', 'r', 's', 't', 'u', 'v', 'w', 'x', 'y', 'z', '{', '|', '}', '~']\n"
     ]
    }
   ],
   "source": [
    "print(ascii)"
   ]
  },
  {
   "cell_type": "code",
   "execution_count": 51,
   "metadata": {
    "collapsed": false
   },
   "outputs": [
    {
     "data": {
      "text/plain": [
       "[0, 1, 4, 9, 16]"
      ]
     },
     "execution_count": 51,
     "metadata": {},
     "output_type": "execute_result"
    }
   ],
   "source": [
    "# Generator Expressions PEP 289  python 2.4\n",
    "[x*x for x in range(5)]"
   ]
  },
  {
   "cell_type": "code",
   "execution_count": 53,
   "metadata": {
    "collapsed": false
   },
   "outputs": [],
   "source": [
    "a =(x*x for x in range(5))"
   ]
  },
  {
   "cell_type": "code",
   "execution_count": 54,
   "metadata": {
    "collapsed": false
   },
   "outputs": [
    {
     "data": {
      "text/plain": [
       "[0, 1, 4, 9, 16]"
      ]
     },
     "execution_count": 54,
     "metadata": {},
     "output_type": "execute_result"
    }
   ],
   "source": [
    "list(a)"
   ]
  },
  {
   "cell_type": "code",
   "execution_count": 57,
   "metadata": {
    "collapsed": false
   },
   "outputs": [
    {
     "data": {
      "text/plain": [
       "[0, 2, 4]"
      ]
     },
     "execution_count": 57,
     "metadata": {},
     "output_type": "execute_result"
    }
   ],
   "source": [
    "nums = range(-5,5)\n",
    "pos = (x for x in nums if x >=0)\n",
    "skip = (x for i,x in enumerate(pos) if i%2==0)\n",
    "list(skip)"
   ]
  },
  {
   "cell_type": "code",
   "execution_count": 58,
   "metadata": {
    "collapsed": false
   },
   "outputs": [
    {
     "data": {
      "text/plain": [
       "43472"
      ]
     },
     "execution_count": 58,
     "metadata": {},
     "output_type": "execute_result"
    }
   ],
   "source": [
    "# if generator is only parameter, don't need parens\n",
    "sum(2*x for x in range(209))"
   ]
  },
  {
   "cell_type": "code",
   "execution_count": 59,
   "metadata": {
    "collapsed": false
   },
   "outputs": [
    {
     "data": {
      "text/plain": [
       "{0: 0, 1: 1, 2: 4, 3: 9, 4: 16}"
      ]
     },
     "execution_count": 59,
     "metadata": {},
     "output_type": "execute_result"
    }
   ],
   "source": [
    "# dictionary comprehension\n",
    "{x: x*x for x in range(5)}"
   ]
  },
  {
   "cell_type": "code",
   "execution_count": 61,
   "metadata": {
    "collapsed": false
   },
   "outputs": [
    {
     "data": {
      "text/plain": [
       "{0, 1, 4, 9, 16}"
      ]
     },
     "execution_count": 61,
     "metadata": {},
     "output_type": "execute_result"
    }
   ],
   "source": [
    "# Set comprehension\n",
    "{x*x for x in range(5)}"
   ]
  },
  {
   "cell_type": "raw",
   "metadata": {},
   "source": [
    "# 3-rd party functions in Python\n",
    "#macropy #toolz # funcy #pyrsistent #fn"
   ]
  }
 ],
 "metadata": {
  "kernelspec": {
   "display_name": "Python 3",
   "language": "python",
   "name": "python3"
  },
  "language_info": {
   "codemirror_mode": {
    "name": "ipython",
    "version": 3
   },
   "file_extension": ".py",
   "mimetype": "text/x-python",
   "name": "python",
   "nbconvert_exporter": "python",
   "pygments_lexer": "ipython3",
   "version": "3.4.3"
  }
 },
 "nbformat": 4,
 "nbformat_minor": 0
}
